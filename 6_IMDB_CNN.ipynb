{
 "cells": [
  {
   "cell_type": "markdown",
   "metadata": {},
   "source": [
    "### 참고자료\n",
    "\n",
    "https://tykimos.github.io/2017/08/17/Text_Input_Binary_Classification_Model_Recipe/\n",
    "\n",
    "https://tykimos.github.io/2017/03/25/Dataset_and_Fit_Talk/\n",
    "\n",
    "https://github.com/rickiepark/deep-learning-with-python-notebooks/blob/master/3.4-classifying-movie-reviews.ipynb\n",
    "\n",
    "https://medium.com/@hobinjeong/cnn%EC%97%90%EC%84%9C-pooling%EC%9D%B4%EB%9E%80-c4e01aa83c83"
   ]
  },
  {
   "cell_type": "code",
   "execution_count": 1,
   "metadata": {},
   "outputs": [
    {
     "name": "stderr",
     "output_type": "stream",
     "text": [
      "Using TensorFlow backend.\n"
     ]
    },
    {
     "data": {
      "text/plain": [
       "'2.2.4'"
      ]
     },
     "execution_count": 1,
     "metadata": {},
     "output_type": "execute_result"
    }
   ],
   "source": [
    "import keras\n",
    "keras.__version__"
   ]
  },
  {
   "cell_type": "code",
   "execution_count": 2,
   "metadata": {},
   "outputs": [],
   "source": [
    "# 0. 사용할 패키지 불러오기\n",
    "from keras.datasets import imdb\n",
    "from keras.preprocessing import sequence\n",
    "from keras.models import Sequential\n",
    "from keras.layers import Dense, Embedding, LSTM\n",
    "from keras.layers import Flatten, Dropout\n",
    "from keras.layers import Conv1D, GlobalMaxPooling1D\n",
    "\n",
    "max_features = 20000\n",
    "text_max_words = 200"
   ]
  },
  {
   "cell_type": "markdown",
   "metadata": {},
   "source": [
    "### 데이터 셋"
   ]
  },
  {
   "cell_type": "code",
   "execution_count": 3,
   "metadata": {},
   "outputs": [],
   "source": [
    "(x_train, y_train), (x_test, y_test) = imdb.load_data(num_words=max_features)\n",
    "\n",
    "x_val = x_train[20000:]\n",
    "y_val = y_train[20000:]\n",
    "x_train = x_train[:20000]\n",
    "y_train = y_train[:20000]\n",
    "\n",
    "x_train = sequence.pad_sequences(x_train, maxlen=text_max_words)\n",
    "x_val = sequence.pad_sequences(x_val, maxlen=text_max_words)\n",
    "x_test = sequence.pad_sequences(x_test, maxlen=text_max_words)"
   ]
  },
  {
   "cell_type": "markdown",
   "metadata": {},
   "source": [
    "LSTM과 같은 데이터 셋을 사용하므로, 같은 방법으로 데이터 셋을 생성하고 이를 같은 크기로 맞추는 전처리를 수행한다."
   ]
  },
  {
   "cell_type": "markdown",
   "metadata": {},
   "source": [
    "### 모델 구성"
   ]
  },
  {
   "cell_type": "code",
   "execution_count": 4,
   "metadata": {},
   "outputs": [
    {
     "name": "stdout",
     "output_type": "stream",
     "text": [
      "WARNING:tensorflow:From c:\\users\\y2sman\\anaconda3\\envs\\keras\\lib\\site-packages\\tensorflow\\python\\framework\\op_def_library.py:263: colocate_with (from tensorflow.python.framework.ops) is deprecated and will be removed in a future version.\n",
      "Instructions for updating:\n",
      "Colocations handled automatically by placer.\n",
      "WARNING:tensorflow:From c:\\users\\y2sman\\anaconda3\\envs\\keras\\lib\\site-packages\\keras\\backend\\tensorflow_backend.py:3445: calling dropout (from tensorflow.python.ops.nn_ops) with keep_prob is deprecated and will be removed in a future version.\n",
      "Instructions for updating:\n",
      "Please use `rate` instead of `keep_prob`. Rate should be set to `rate = 1 - keep_prob`.\n",
      "_________________________________________________________________\n",
      "Layer (type)                 Output Shape              Param #   \n",
      "=================================================================\n",
      "embedding_1 (Embedding)      (None, 200, 128)          2560000   \n",
      "_________________________________________________________________\n",
      "dropout_1 (Dropout)          (None, 200, 128)          0         \n",
      "_________________________________________________________________\n",
      "conv1d_1 (Conv1D)            (None, 198, 256)          98560     \n",
      "_________________________________________________________________\n",
      "global_max_pooling1d_1 (Glob (None, 256)               0         \n",
      "_________________________________________________________________\n",
      "dense_1 (Dense)              (None, 128)               32896     \n",
      "_________________________________________________________________\n",
      "dropout_2 (Dropout)          (None, 128)               0         \n",
      "_________________________________________________________________\n",
      "dense_2 (Dense)              (None, 1)                 129       \n",
      "=================================================================\n",
      "Total params: 2,691,585\n",
      "Trainable params: 2,691,585\n",
      "Non-trainable params: 0\n",
      "_________________________________________________________________\n"
     ]
    }
   ],
   "source": [
    "model = Sequential()\n",
    "model.add(Embedding(max_features, 128, input_length=text_max_words))\n",
    "model.add(Dropout(0.2))\n",
    "model.add(Conv1D(256,\n",
    "                 3,\n",
    "                 padding='valid',\n",
    "                 activation='relu',\n",
    "                 strides=1))\n",
    "model.add(GlobalMaxPooling1D())\n",
    "model.add(Dense(128, activation='relu'))\n",
    "model.add(Dropout(0.2))\n",
    "model.add(Dense(1, activation='sigmoid'))\n",
    "model.summary()"
   ]
  },
  {
   "cell_type": "markdown",
   "metadata": {},
   "source": [
    "LSTM과 동일한 방식으로 모델을 구성하지만, 여기서는 CNN을 사용할 것이므로 Conv1D를 모델 레이어로 추가한다. Dropout과 relu가 추가되었다. dropout은 overfitting을 방지하기 위해 추가된 레이어이고, relu는 sigmoid와 똑같게 결과값을 기대하기 위해 사용하는 레이어이다. 여기서 max_pooling이 있는데, CNN은 데이터 특징을 뽑아 내는 방식이므로, max_pooling에서 뽑아낸 데이터를 relu로 1차적으로 평가하고 최종적으로는 sigmoid를 이용하여 학습 결과를 내는 방식인것 같다."
   ]
  },
  {
   "cell_type": "code",
   "execution_count": 5,
   "metadata": {},
   "outputs": [
    {
     "name": "stdout",
     "output_type": "stream",
     "text": [
      "WARNING:tensorflow:From c:\\users\\y2sman\\anaconda3\\envs\\keras\\lib\\site-packages\\tensorflow\\python\\ops\\math_ops.py:3066: to_int32 (from tensorflow.python.ops.math_ops) is deprecated and will be removed in a future version.\n",
      "Instructions for updating:\n",
      "Use tf.cast instead.\n",
      "WARNING:tensorflow:From c:\\users\\y2sman\\anaconda3\\envs\\keras\\lib\\site-packages\\tensorflow\\python\\ops\\math_grad.py:102: div (from tensorflow.python.ops.math_ops) is deprecated and will be removed in a future version.\n",
      "Instructions for updating:\n",
      "Deprecated in favor of operator or tf.math.divide.\n",
      "Train on 20000 samples, validate on 5000 samples\n",
      "Epoch 1/25\n",
      "20000/20000 [==============================] - 7s 344us/step - loss: 0.4664 - acc: 0.7568 - val_loss: 0.3045 - val_acc: 0.8736\n",
      "Epoch 2/25\n",
      "20000/20000 [==============================] - 4s 195us/step - loss: 0.2151 - acc: 0.9153 - val_loss: 0.2609 - val_acc: 0.8930\n",
      "Epoch 3/25\n",
      "20000/20000 [==============================] - 4s 196us/step - loss: 0.0858 - acc: 0.9739 - val_loss: 0.2890 - val_acc: 0.8928\n",
      "Epoch 4/25\n",
      "20000/20000 [==============================] - 4s 197us/step - loss: 0.0222 - acc: 0.9951 - val_loss: 0.3511 - val_acc: 0.8938\n",
      "Epoch 5/25\n",
      "20000/20000 [==============================] - 4s 197us/step - loss: 0.0060 - acc: 0.9995 - val_loss: 0.3896 - val_acc: 0.8938\n",
      "Epoch 6/25\n",
      "20000/20000 [==============================] - 4s 203us/step - loss: 0.0022 - acc: 0.9997 - val_loss: 0.4246 - val_acc: 0.8940\n",
      "Epoch 7/25\n",
      "20000/20000 [==============================] - 4s 192us/step - loss: 8.4977e-04 - acc: 1.0000 - val_loss: 0.4575 - val_acc: 0.8936\n",
      "Epoch 8/25\n",
      "20000/20000 [==============================] - 4s 193us/step - loss: 4.9516e-04 - acc: 1.0000 - val_loss: 0.4780 - val_acc: 0.8936\n",
      "Epoch 9/25\n",
      "20000/20000 [==============================] - 4s 193us/step - loss: 3.6990e-04 - acc: 1.0000 - val_loss: 0.4971 - val_acc: 0.8930\n",
      "Epoch 10/25\n",
      "20000/20000 [==============================] - 4s 193us/step - loss: 2.0886e-04 - acc: 1.0000 - val_loss: 0.5115 - val_acc: 0.8946\n",
      "Epoch 11/25\n",
      "20000/20000 [==============================] - 4s 193us/step - loss: 1.6106e-04 - acc: 1.0000 - val_loss: 0.5219 - val_acc: 0.8914\n",
      "Epoch 12/25\n",
      "20000/20000 [==============================] - 4s 194us/step - loss: 1.4209e-04 - acc: 1.0000 - val_loss: 0.5381 - val_acc: 0.8956\n",
      "Epoch 13/25\n",
      "20000/20000 [==============================] - 4s 193us/step - loss: 1.5019e-04 - acc: 1.0000 - val_loss: 0.5588 - val_acc: 0.8950\n",
      "Epoch 14/25\n",
      "20000/20000 [==============================] - 4s 193us/step - loss: 7.5399e-05 - acc: 1.0000 - val_loss: 0.5643 - val_acc: 0.8918\n",
      "Epoch 15/25\n",
      "20000/20000 [==============================] - 4s 193us/step - loss: 4.8296e-05 - acc: 1.0000 - val_loss: 0.5804 - val_acc: 0.8960\n",
      "Epoch 16/25\n",
      "20000/20000 [==============================] - 4s 194us/step - loss: 5.5949e-05 - acc: 1.0000 - val_loss: 0.6035 - val_acc: 0.8962\n",
      "Epoch 17/25\n",
      "20000/20000 [==============================] - 4s 207us/step - loss: 4.2135e-05 - acc: 1.0000 - val_loss: 0.6033 - val_acc: 0.89361s - \n",
      "Epoch 18/25\n",
      "20000/20000 [==============================] - 4s 211us/step - loss: 4.1249e-05 - acc: 1.0000 - val_loss: 0.6189 - val_acc: 0.8944\n",
      "Epoch 19/25\n",
      "20000/20000 [==============================] - 4s 204us/step - loss: 4.7072e-05 - acc: 1.0000 - val_loss: 0.6470 - val_acc: 0.8926\n",
      "Epoch 20/25\n",
      "20000/20000 [==============================] - 4s 194us/step - loss: 5.4308e-05 - acc: 1.0000 - val_loss: 0.6706 - val_acc: 0.8876\n",
      "Epoch 21/25\n",
      "20000/20000 [==============================] - 4s 221us/step - loss: 1.5311e-04 - acc: 1.0000 - val_loss: 0.8172 - val_acc: 0.8652\n",
      "Epoch 22/25\n",
      "20000/20000 [==============================] - 4s 216us/step - loss: 0.0560 - acc: 0.9788 - val_loss: 0.4300 - val_acc: 0.8840\n",
      "Epoch 23/25\n",
      "20000/20000 [==============================] - 4s 207us/step - loss: 0.0161 - acc: 0.9944 - val_loss: 0.5342 - val_acc: 0.8840\n",
      "Epoch 24/25\n",
      "20000/20000 [==============================] - 4s 212us/step - loss: 0.0028 - acc: 0.9991 - val_loss: 0.5974 - val_acc: 0.8880\n",
      "Epoch 25/25\n",
      "20000/20000 [==============================] - 4s 216us/step - loss: 0.0013 - acc: 0.9996 - val_loss: 0.6283 - val_acc: 0.8856\n"
     ]
    }
   ],
   "source": [
    "model.compile(loss='binary_crossentropy', optimizer='adam', metrics=['accuracy'])\n",
    "history = model.fit(x_train, y_train, epochs=25, batch_size=64, validation_data=(x_val, y_val))"
   ]
  },
  {
   "cell_type": "markdown",
   "metadata": {},
   "source": [
    "모델을 컴파일하고 학습을 진행하였다. 역시 정확도를 기반으로 학습을 수행하였고, 바이너리 기댓갓을 내기위해 loss_function은 binary_crossentropy를 사용하였다. epochs는 조건에 맞추어 25로 설정하였다."
   ]
  },
  {
   "cell_type": "code",
   "execution_count": 8,
   "metadata": {},
   "outputs": [
    {
     "data": {
      "image/png": "[encoded data removed]",
      "text/plain": [
       "<Figure size 432x288 with 1 Axes>"
      ]
     },
     "metadata": {
      "needs_background": "light"
     },
     "output_type": "display_data"
    }
   ],
   "source": [
    "import matplotlib.pyplot as plt\n",
    "\n",
    "history_dict = history.history\n",
    "acc = history_dict['acc']\n",
    "val_acc = history_dict['val_acc']\n",
    "\n",
    "epochs = range(1, len(acc) + 1)\n",
    "\n",
    "plt.plot(epochs, acc, 'bo', label='Training acc')\n",
    "plt.plot(epochs, val_acc, 'b', label='Validation acc')\n",
    "plt.title('Training and validation accuracy')\n",
    "plt.xlabel('Epochs')\n",
    "plt.ylabel('Accuracy')\n",
    "plt.legend()\n",
    "\n",
    "plt.show()"
   ]
  },
  {
   "cell_type": "markdown",
   "metadata": {},
   "source": [
    "LSTM에 비해 정확도가 상당히 높다. 하지만 loss율이 다른 방식들에 비해 높다. 또한 실제로 model predict를 돌려보면, 정확도는 높게 나오지만 실제 결과는 중간값이 많이 잡혀서 나온다."
   ]
  },
  {
   "cell_type": "code",
   "execution_count": 7,
   "metadata": {},
   "outputs": [
    {
     "name": "stdout",
     "output_type": "stream",
     "text": [
      "25000/25000 [==============================] - 1s 47us/step\n",
      "[0.691278098897934, 0.8686000000190734]\n"
     ]
    },
    {
     "data": {
      "text/plain": [
       "array([[3.3733526e-01],\n",
       "       [7.1525574e-07],\n",
       "       [9.9979329e-01],\n",
       "       ...,\n",
       "       [8.1360036e-01],\n",
       "       [9.9909699e-01],\n",
       "       [7.7486038e-07]], dtype=float32)"
      ]
     },
     "execution_count": 7,
     "metadata": {},
     "output_type": "execute_result"
    }
   ],
   "source": [
    "loss_and_metrics = model.evaluate(x_test, y_test, batch_size=64)\n",
    "print(loss_and_metrics)\n",
    "model.predict(x_val)"
   ]
  }
 ],
 "metadata": {
  "kernelspec": {
   "display_name": "Python 3",
   "language": "python",
   "name": "python3"
  },
  "language_info": {
   "codemirror_mode": {
    "name": "ipython",
    "version": 3
   },
   "file_extension": ".py",
   "mimetype": "text/x-python",
   "name": "python",
   "nbconvert_exporter": "python",
   "pygments_lexer": "ipython3",
   "version": "3.7.3"
  }
 },
 "nbformat": 4,
 "nbformat_minor": 2
}
