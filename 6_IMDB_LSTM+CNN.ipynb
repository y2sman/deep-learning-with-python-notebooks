{
 "cells": [
  {
   "cell_type": "markdown",
   "metadata": {},
   "source": [
    "### 참고자료\n",
    "\n",
    "https://tykimos.github.io/2017/08/17/Text_Input_Binary_Classification_Model_Recipe/\n",
    "\n",
    "https://tykimos.github.io/2017/03/25/Dataset_and_Fit_Talk/\n",
    "\n",
    "https://github.com/rickiepark/deep-learning-with-python-notebooks/blob/master/3.4-classifying-movie-reviews.ipynb"
   ]
  },
  {
   "cell_type": "code",
   "execution_count": 1,
   "metadata": {},
   "outputs": [
    {
     "name": "stderr",
     "output_type": "stream",
     "text": [
      "Using TensorFlow backend.\n"
     ]
    },
    {
     "data": {
      "text/plain": [
       "'2.2.4'"
      ]
     },
     "execution_count": 1,
     "metadata": {},
     "output_type": "execute_result"
    }
   ],
   "source": [
    "import keras\n",
    "keras.__version__"
   ]
  },
  {
   "cell_type": "markdown",
   "metadata": {},
   "source": [
    "### 데이터 전처리"
   ]
  },
  {
   "cell_type": "code",
   "execution_count": 2,
   "metadata": {},
   "outputs": [],
   "source": [
    "from keras.datasets import imdb\n",
    "from keras.preprocessing import sequence\n",
    "from keras.models import Sequential\n",
    "from keras.layers import Dense, Embedding, LSTM\n",
    "from keras.layers import Flatten, Dropout\n",
    "from keras.layers import Conv1D, MaxPooling1D\n",
    "\n",
    "max_features = 20000\n",
    "text_max_words = 200\n",
    "\n",
    "(x_train, y_train), (x_test, y_test) = imdb.load_data(num_words=max_features)\n",
    "\n",
    "x_val = x_train[20000:]\n",
    "y_val = y_train[20000:]\n",
    "x_train = x_train[:20000]\n",
    "y_train = y_train[:20000]\n",
    "\n",
    "x_train = sequence.pad_sequences(x_train, maxlen=text_max_words)\n",
    "x_val = sequence.pad_sequences(x_val, maxlen=text_max_words)\n",
    "x_test = sequence.pad_sequences(x_test, maxlen=text_max_words)"
   ]
  },
  {
   "cell_type": "markdown",
   "metadata": {},
   "source": [
    "전처리는 똑같이 진행한다."
   ]
  },
  {
   "cell_type": "markdown",
   "metadata": {},
   "source": [
    "### 모델 설계"
   ]
  },
  {
   "cell_type": "code",
   "execution_count": 3,
   "metadata": {},
   "outputs": [
    {
     "name": "stdout",
     "output_type": "stream",
     "text": [
      "WARNING:tensorflow:From c:\\users\\y2sman\\anaconda3\\envs\\keras\\lib\\site-packages\\tensorflow\\python\\framework\\op_def_library.py:263: colocate_with (from tensorflow.python.framework.ops) is deprecated and will be removed in a future version.\n",
      "Instructions for updating:\n",
      "Colocations handled automatically by placer.\n",
      "WARNING:tensorflow:From c:\\users\\y2sman\\anaconda3\\envs\\keras\\lib\\site-packages\\keras\\backend\\tensorflow_backend.py:3445: calling dropout (from tensorflow.python.ops.nn_ops) with keep_prob is deprecated and will be removed in a future version.\n",
      "Instructions for updating:\n",
      "Please use `rate` instead of `keep_prob`. Rate should be set to `rate = 1 - keep_prob`.\n",
      "_________________________________________________________________\n",
      "Layer (type)                 Output Shape              Param #   \n",
      "=================================================================\n",
      "embedding_1 (Embedding)      (None, 200, 128)          2560000   \n",
      "_________________________________________________________________\n",
      "dropout_1 (Dropout)          (None, 200, 128)          0         \n",
      "_________________________________________________________________\n",
      "conv1d_1 (Conv1D)            (None, 198, 256)          98560     \n",
      "_________________________________________________________________\n",
      "max_pooling1d_1 (MaxPooling1 (None, 49, 256)           0         \n",
      "_________________________________________________________________\n",
      "lstm_1 (LSTM)                (None, 128)               197120    \n",
      "_________________________________________________________________\n",
      "dense_1 (Dense)              (None, 1)                 129       \n",
      "=================================================================\n",
      "Total params: 2,855,809\n",
      "Trainable params: 2,855,809\n",
      "Non-trainable params: 0\n",
      "_________________________________________________________________\n"
     ]
    }
   ],
   "source": [
    "model = Sequential()\n",
    "model.add(Embedding(max_features, 128, input_length=text_max_words))\n",
    "model.add(Dropout(0.2))\n",
    "model.add(Conv1D(256,\n",
    "                 3,\n",
    "                 padding='valid',\n",
    "                 activation='relu',\n",
    "                 strides=1))\n",
    "model.add(MaxPooling1D(pool_size=4))\n",
    "model.add(LSTM(128))\n",
    "model.add(Dense(1, activation='sigmoid'))\n",
    "model.summary()"
   ]
  },
  {
   "cell_type": "markdown",
   "metadata": {},
   "source": [
    "CNN과 LSTM을 동시에 사용하였다. LSTM의 위치를 보면 max_pooling 뒤에 위치하는 것을 확인할 수 있다. CNN만 있었던 것과 큰 차이인데, CNN만 사용했을 때는 특징을 뽑아낸 데이터를 relu로 이용해 학습하였다. 하지만 여기서는 pool_size를 따로 줘서 max_pooling을 하면서 49개의 특징벡터를 뽑아내어 이를 LSTM을 이용해 학습하고 sigmoid를 이용해 평가한다."
   ]
  },
  {
   "cell_type": "markdown",
   "metadata": {},
   "source": [
    "### 학습"
   ]
  },
  {
   "cell_type": "code",
   "execution_count": 4,
   "metadata": {},
   "outputs": [
    {
     "name": "stdout",
     "output_type": "stream",
     "text": [
      "WARNING:tensorflow:From c:\\users\\y2sman\\anaconda3\\envs\\keras\\lib\\site-packages\\tensorflow\\python\\ops\\math_ops.py:3066: to_int32 (from tensorflow.python.ops.math_ops) is deprecated and will be removed in a future version.\n",
      "Instructions for updating:\n",
      "Use tf.cast instead.\n",
      "Train on 20000 samples, validate on 5000 samples\n",
      "Epoch 1/25\n",
      "20000/20000 [==============================] - 34s 2ms/step - loss: 0.4029 - acc: 0.8013 - val_loss: 0.3043 - val_acc: 0.8762\n",
      "Epoch 2/25\n",
      "20000/20000 [==============================] - 29s 1ms/step - loss: 0.1881 - acc: 0.9295 - val_loss: 0.3531 - val_acc: 0.8540\n",
      "Epoch 3/25\n",
      "20000/20000 [==============================] - 30s 1ms/step - loss: 0.0943 - acc: 0.9684 - val_loss: 0.3988 - val_acc: 0.8634\n",
      "Epoch 4/25\n",
      "20000/20000 [==============================] - 29s 1ms/step - loss: 0.0478 - acc: 0.9854 - val_loss: 0.4871 - val_acc: 0.8612\n",
      "Epoch 5/25\n",
      "20000/20000 [==============================] - 28s 1ms/step - loss: 0.0343 - acc: 0.9896 - val_loss: 0.5194 - val_acc: 0.8598\n",
      "Epoch 6/25\n",
      "20000/20000 [==============================] - 29s 1ms/step - loss: 0.0259 - acc: 0.9920 - val_loss: 0.6782 - val_acc: 0.8552\n",
      "Epoch 7/25\n",
      "20000/20000 [==============================] - 27s 1ms/step - loss: 0.0192 - acc: 0.9941 - val_loss: 0.6672 - val_acc: 0.8524\n",
      "Epoch 8/25\n",
      "20000/20000 [==============================] - 27s 1ms/step - loss: 0.0105 - acc: 0.9967 - val_loss: 0.6911 - val_acc: 0.8474\n",
      "Epoch 9/25\n",
      "20000/20000 [==============================] - 27s 1ms/step - loss: 0.0070 - acc: 0.9979 - val_loss: 0.8658 - val_acc: 0.8248\n",
      "Epoch 10/25\n",
      "20000/20000 [==============================] - 27s 1ms/step - loss: 0.0134 - acc: 0.9955 - val_loss: 0.7965 - val_acc: 0.8556\n",
      "Epoch 11/25\n",
      "20000/20000 [==============================] - 26s 1ms/step - loss: 0.0124 - acc: 0.9956 - val_loss: 0.7448 - val_acc: 0.8522\n",
      "Epoch 12/25\n",
      "20000/20000 [==============================] - 32s 2ms/step - loss: 0.0119 - acc: 0.9960 - val_loss: 0.8085 - val_acc: 0.8554\n",
      "Epoch 13/25\n",
      "20000/20000 [==============================] - 28s 1ms/step - loss: 0.0071 - acc: 0.9975 - val_loss: 0.7742 - val_acc: 0.8538\n",
      "Epoch 14/25\n",
      "20000/20000 [==============================] - 27s 1ms/step - loss: 0.0029 - acc: 0.9992 - val_loss: 0.7732 - val_acc: 0.8490\n",
      "Epoch 15/25\n",
      "20000/20000 [==============================] - 30s 1ms/step - loss: 0.0091 - acc: 0.9972 - val_loss: 0.8116 - val_acc: 0.8624\n",
      "Epoch 16/25\n",
      "20000/20000 [==============================] - 27s 1ms/step - loss: 0.0055 - acc: 0.9981 - val_loss: 0.8794 - val_acc: 0.8576\n",
      "Epoch 17/25\n",
      "20000/20000 [==============================] - 27s 1ms/step - loss: 0.0037 - acc: 0.9987 - val_loss: 0.9400 - val_acc: 0.8606\n",
      "Epoch 18/25\n",
      "20000/20000 [==============================] - 27s 1ms/step - loss: 0.0041 - acc: 0.9986 - val_loss: 0.8776 - val_acc: 0.8520\n",
      "Epoch 19/25\n",
      "20000/20000 [==============================] - 27s 1ms/step - loss: 0.0117 - acc: 0.9963 - val_loss: 0.8052 - val_acc: 0.8582\n",
      "Epoch 20/25\n",
      "20000/20000 [==============================] - 29s 1ms/step - loss: 0.0049 - acc: 0.9983 - val_loss: 0.9864 - val_acc: 0.8486\n",
      "Epoch 21/25\n",
      "20000/20000 [==============================] - 32s 2ms/step - loss: 0.0035 - acc: 0.9990 - val_loss: 1.0544 - val_acc: 0.8546\n",
      "Epoch 22/25\n",
      "20000/20000 [==============================] - 29s 1ms/step - loss: 0.0018 - acc: 0.9995 - val_loss: 1.0087 - val_acc: 0.8574\n",
      "Epoch 23/25\n",
      "20000/20000 [==============================] - 29s 1ms/step - loss: 0.0084 - acc: 0.9971 - val_loss: 0.9138 - val_acc: 0.8578\n",
      "Epoch 24/25\n",
      "20000/20000 [==============================] - 29s 1ms/step - loss: 0.0039 - acc: 0.9987 - val_loss: 0.9046 - val_acc: 0.8524\n",
      "Epoch 25/25\n",
      "20000/20000 [==============================] - 35s 2ms/step - loss: 0.0014 - acc: 0.9995 - val_loss: 1.1234 - val_acc: 0.8526\n"
     ]
    }
   ],
   "source": [
    "model.compile(loss='binary_crossentropy', optimizer='adam', metrics=['accuracy'])\n",
    "history = model.fit(x_train, y_train, epochs=25, batch_size=64, validation_data=(x_val, y_val))"
   ]
  },
  {
   "cell_type": "markdown",
   "metadata": {},
   "source": [
    "학습 자체는 다른것과 동일하게 진행한다. epochs만 조건에 맞게 25로 설정한다."
   ]
  },
  {
   "cell_type": "markdown",
   "metadata": {},
   "source": [
    "### 시각화"
   ]
  },
  {
   "cell_type": "code",
   "execution_count": 8,
   "metadata": {},
   "outputs": [
    {
     "data": {
      "image/png": "[encoded data removed]",
      "text/plain": [
       "<Figure size 432x288 with 1 Axes>"
      ]
     },
     "metadata": {
      "needs_background": "light"
     },
     "output_type": "display_data"
    }
   ],
   "source": [
    "import matplotlib.pyplot as plt\n",
    "\n",
    "history_dict = history.history\n",
    "acc = history_dict['acc']\n",
    "val_acc = history_dict['val_acc']\n",
    "\n",
    "epochs = range(1, len(acc) + 1)\n",
    "\n",
    "plt.plot(epochs, acc, 'bo', label='Training acc')\n",
    "plt.plot(epochs, val_acc, 'b', label='Validation acc')\n",
    "plt.title('Training and validation accuracy')\n",
    "plt.xlabel('Epochs')\n",
    "plt.ylabel('Accuracy')\n",
    "plt.legend()\n",
    "\n",
    "plt.show()"
   ]
  },
  {
   "cell_type": "markdown",
   "metadata": {},
   "source": [
    "학습 데이터 정확도는 비교적 높지만, 평가 데이터 정확도는 낮다."
   ]
  },
  {
   "cell_type": "code",
   "execution_count": 6,
   "metadata": {},
   "outputs": [
    {
     "name": "stdout",
     "output_type": "stream",
     "text": [
      "25000/25000 [==============================] - 12s 477us/step\n",
      "[1.2694629144287108, 0.8339200000381469]\n"
     ]
    }
   ],
   "source": [
    "loss_and_metrics = model.evaluate(x_test, y_test, batch_size=64)\n",
    "print(loss_and_metrics)"
   ]
  },
  {
   "cell_type": "code",
   "execution_count": 7,
   "metadata": {
    "scrolled": true
   },
   "outputs": [
    {
     "data": {
      "text/plain": [
       "array([[2.4020672e-05],\n",
       "       [1.2779236e-04],\n",
       "       [9.8764694e-01],\n",
       "       ...,\n",
       "       [2.5331974e-06],\n",
       "       [9.9999601e-01],\n",
       "       [9.9996334e-01]], dtype=float32)"
      ]
     },
     "execution_count": 7,
     "metadata": {},
     "output_type": "execute_result"
    }
   ],
   "source": [
    "model.predict(x_val)"
   ]
  },
  {
   "cell_type": "markdown",
   "metadata": {},
   "source": [
    "시각화 자료에 따르면 평가 정확도가 비교적 낮은데, 모델 예측을 돌려보면 비교적 1과 10 근처로 잘 잡힌 것을 확인할 수 있다."
   ]
  }
 ],
 "metadata": {
  "kernelspec": {
   "display_name": "Python 3",
   "language": "python",
   "name": "python3"
  },
  "language_info": {
   "codemirror_mode": {
    "name": "ipython",
    "version": 3
   },
   "file_extension": ".py",
   "mimetype": "text/x-python",
   "name": "python",
   "nbconvert_exporter": "python",
   "pygments_lexer": "ipython3",
   "version": "3.7.3"
  }
 },
 "nbformat": 4,
 "nbformat_minor": 2
}
