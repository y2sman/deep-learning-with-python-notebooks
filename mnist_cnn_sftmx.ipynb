{
 "cells": [
  {
   "cell_type": "code",
   "execution_count": 1,
   "metadata": {},
   "outputs": [
    {
     "name": "stderr",
     "output_type": "stream",
     "text": [
      "Using TensorFlow backend.\n"
     ]
    },
    {
     "data": {
      "text/plain": [
       "'2.2.4'"
      ]
     },
     "execution_count": 1,
     "metadata": {},
     "output_type": "execute_result"
    }
   ],
   "source": [
    "import keras\n",
    "keras.__version__"
   ]
  },
  {
   "cell_type": "markdown",
   "metadata": {
    "collapsed": true
   },
   "source": [
    "## 5.1 - 합성곱 신경망 소개\n",
    "###### Python 3.5.5. keras 2.1.6에서 실행 확인하였습니다.\n",
    "책의 5장 1절의 코드 예제입니다. 아래 모델에 대해서 기술하세요.\n",
    "\n"
   ]
  },
  {
   "cell_type": "markdown",
   "metadata": {},
   "source": [
    "### 데이터셋\n",
    "\n",
    "데이터셋은 mnist 데이터셋으로, 손글씨로 숫자 0-9를 데이터셋화 하였다.\n",
    "\n",
    "### 모델\n",
    "\n",
    "Conv2D -> MaxPooling2D 과정을 2번 반복한다. input_shape를 지정하는 이유가 궁금해서 없이 해봤다. 작동하지 않았다. 입력 크기를 지정하지 않으면 ConvNet을 수성할 수 없어 실행되지 않는 것 같았다. Conv2D를 거쳐서 Maxpooling을 통해 결과값의 특징을 1/2로 뽑아낸다.\n",
    "\n",
    "특징을 뽑아낸 입력값을 Conv2D를 '64,(3,3)' 크기로 최종적으로 줄이고, 최종적으로 10개의 출력 크기를 가진 Dense층으로 보낸다. 10개의 출력 크기를 가지는 이유는 이 학습의 목적이 0-9 손글씨 데이터를 바탕으로 학습하였고, 숫자 구별이 최종 목표이기 때문이다. \n",
    "\n",
    "여기서 지금까지 못 본 처음보는 Flatten()이 등장했다. 검색해보면, 텐서에서의 차원변경을 위해 사용하는 함수인데 다차원 배열을 1차원으로 만들기위해 사용하는 함수라고 한다.\n",
    "\n",
    "여기서 Flattern은 Conv2D에서 3차원 출력값으로 나오기 때문에, 1차원 출력값으로 이를 바꾸어 평가를 진행하기 위해 모델을 구성한다."
   ]
  },
  {
   "cell_type": "code",
   "execution_count": 2,
   "metadata": {},
   "outputs": [
    {
     "name": "stdout",
     "output_type": "stream",
     "text": [
      "WARNING:tensorflow:From c:\\users\\y2sman\\anaconda3\\envs\\keras\\lib\\site-packages\\tensorflow\\python\\framework\\op_def_library.py:263: colocate_with (from tensorflow.python.framework.ops) is deprecated and will be removed in a future version.\n",
      "Instructions for updating:\n",
      "Colocations handled automatically by placer.\n",
      "_________________________________________________________________\n",
      "Layer (type)                 Output Shape              Param #   \n",
      "=================================================================\n",
      "conv2d_1 (Conv2D)            (None, 26, 26, 32)        320       \n",
      "_________________________________________________________________\n",
      "max_pooling2d_1 (MaxPooling2 (None, 13, 13, 32)        0         \n",
      "_________________________________________________________________\n",
      "conv2d_2 (Conv2D)            (None, 11, 11, 64)        18496     \n",
      "_________________________________________________________________\n",
      "max_pooling2d_2 (MaxPooling2 (None, 5, 5, 64)          0         \n",
      "_________________________________________________________________\n",
      "conv2d_3 (Conv2D)            (None, 3, 3, 64)          36928     \n",
      "_________________________________________________________________\n",
      "flatten_1 (Flatten)          (None, 576)               0         \n",
      "_________________________________________________________________\n",
      "dense_1 (Dense)              (None, 64)                36928     \n",
      "_________________________________________________________________\n",
      "dense_2 (Dense)              (None, 10)                650       \n",
      "=================================================================\n",
      "Total params: 93,322\n",
      "Trainable params: 93,322\n",
      "Non-trainable params: 0\n",
      "_________________________________________________________________\n"
     ]
    }
   ],
   "source": [
    "from keras import layers\n",
    "from keras import models\n",
    "\n",
    "model = models.Sequential()\n",
    "model.add(layers.Conv2D(32, (3, 3), activation='relu', input_shape=(28, 28, 1)))\n",
    "model.add(layers.MaxPooling2D((2, 2)))\n",
    "model.add(layers.Conv2D(64, (3, 3), activation='relu'))\n",
    "model.add(layers.MaxPooling2D((2, 2)))\n",
    "model.add(layers.Conv2D(64, (3, 3), activation='relu'))\n",
    "model.add(layers.Flatten())\n",
    "model.add(layers.Dense(64, activation='relu'))\n",
    "model.add(layers.Dense(10, activation='softmax'))\n",
    "model.summary()"
   ]
  },
  {
   "cell_type": "code",
   "execution_count": 3,
   "metadata": {},
   "outputs": [],
   "source": [
    "from keras.datasets import mnist\n",
    "from keras.utils import to_categorical\n",
    "\n",
    "(train_images, train_labels), (test_images, test_labels) = mnist.load_data()\n",
    "\n",
    "train_images = train_images.reshape((60000, 28, 28, 1))\n",
    "train_images = train_images.astype('float32') / 255\n",
    "\n",
    "test_images = test_images.reshape((10000, 28, 28, 1))\n",
    "test_images = test_images.astype('float32') / 255\n",
    "\n",
    "train_labels = to_categorical(train_labels)\n",
    "test_labels = to_categorical(test_labels)"
   ]
  },
  {
   "cell_type": "code",
   "execution_count": 4,
   "metadata": {},
   "outputs": [
    {
     "name": "stdout",
     "output_type": "stream",
     "text": [
      "WARNING:tensorflow:From c:\\users\\y2sman\\anaconda3\\envs\\keras\\lib\\site-packages\\tensorflow\\python\\ops\\math_ops.py:3066: to_int32 (from tensorflow.python.ops.math_ops) is deprecated and will be removed in a future version.\n",
      "Instructions for updating:\n",
      "Use tf.cast instead.\n",
      "Epoch 1/25\n",
      "60000/60000 [==============================] - 7s 123us/step - loss: 0.1670 - acc: 0.9473\n",
      "Epoch 2/25\n",
      "60000/60000 [==============================] - 5s 78us/step - loss: 0.0491 - acc: 0.9850\n",
      "Epoch 3/25\n",
      "60000/60000 [==============================] - 5s 77us/step - loss: 0.0338 - acc: 0.9897\n",
      "Epoch 4/25\n",
      "60000/60000 [==============================] - 5s 76us/step - loss: 0.0259 - acc: 0.9920\n",
      "Epoch 5/25\n",
      "60000/60000 [==============================] - 5s 78us/step - loss: 0.0203 - acc: 0.9939\n",
      "Epoch 6/25\n",
      "60000/60000 [==============================] - 5s 78us/step - loss: 0.0171 - acc: 0.9947\n",
      "Epoch 7/25\n",
      "60000/60000 [==============================] - 5s 77us/step - loss: 0.0140 - acc: 0.9957\n",
      "Epoch 8/25\n",
      "60000/60000 [==============================] - 5s 78us/step - loss: 0.0121 - acc: 0.9967\n",
      "Epoch 9/25\n",
      "60000/60000 [==============================] - 5s 76us/step - loss: 0.0096 - acc: 0.9972\n",
      "Epoch 10/25\n",
      "60000/60000 [==============================] - 5s 77us/step - loss: 0.0088 - acc: 0.9974\n",
      "Epoch 11/25\n",
      "60000/60000 [==============================] - 5s 77us/step - loss: 0.0074 - acc: 0.9976\n",
      "Epoch 12/25\n",
      "60000/60000 [==============================] - 5s 78us/step - loss: 0.0069 - acc: 0.9979\n",
      "Epoch 13/25\n",
      "60000/60000 [==============================] - 5s 76us/step - loss: 0.0060 - acc: 0.9981\n",
      "Epoch 14/25\n",
      "60000/60000 [==============================] - 5s 77us/step - loss: 0.0051 - acc: 0.9984\n",
      "Epoch 15/25\n",
      "60000/60000 [==============================] - 5s 77us/step - loss: 0.0046 - acc: 0.9987\n",
      "Epoch 16/25\n",
      "60000/60000 [==============================] - 5s 75us/step - loss: 0.0046 - acc: 0.9987\n",
      "Epoch 17/25\n",
      "60000/60000 [==============================] - 5s 77us/step - loss: 0.0038 - acc: 0.9991\n",
      "Epoch 18/25\n",
      "60000/60000 [==============================] - 5s 77us/step - loss: 0.0043 - acc: 0.9988\n",
      "Epoch 19/25\n",
      "60000/60000 [==============================] - 5s 80us/step - loss: 0.0046 - acc: 0.9988\n",
      "Epoch 20/25\n",
      "60000/60000 [==============================] - 5s 77us/step - loss: 0.0032 - acc: 0.9991\n",
      "Epoch 21/25\n",
      "60000/60000 [==============================] - 5s 77us/step - loss: 0.0034 - acc: 0.9993\n",
      "Epoch 22/25\n",
      "60000/60000 [==============================] - 5s 78us/step - loss: 0.0024 - acc: 0.9994\n",
      "Epoch 23/25\n",
      "60000/60000 [==============================] - 5s 79us/step - loss: 0.0033 - acc: 0.9993\n",
      "Epoch 24/25\n",
      "60000/60000 [==============================] - 5s 79us/step - loss: 0.0025 - acc: 0.9994\n",
      "Epoch 25/25\n",
      "60000/60000 [==============================] - 5s 79us/step - loss: 0.0037 - acc: 0.9992\n"
     ]
    },
    {
     "data": {
      "text/plain": [
       "<keras.callbacks.History at 0x1af587976d8>"
      ]
     },
     "execution_count": 4,
     "metadata": {},
     "output_type": "execute_result"
    }
   ],
   "source": [
    "model.compile(optimizer='rmsprop',\n",
    "              loss='categorical_crossentropy',\n",
    "              metrics=['accuracy'])\n",
    "model.fit(train_images, train_labels, epochs=25, batch_size=64)"
   ]
  },
  {
   "cell_type": "code",
   "execution_count": 5,
   "metadata": {},
   "outputs": [
    {
     "name": "stdout",
     "output_type": "stream",
     "text": [
      "10000/10000 [==============================] - 1s 58us/step\n"
     ]
    },
    {
     "data": {
      "text/plain": [
       "0.9925"
      ]
     },
     "execution_count": 5,
     "metadata": {},
     "output_type": "execute_result"
    }
   ],
   "source": [
    "test_loss, test_acc = model.evaluate(test_images, test_labels)\n",
    "test_acc"
   ]
  }
 ],
 "metadata": {
  "kernelspec": {
   "display_name": "Python 3",
   "language": "python",
   "name": "python3"
  },
  "language_info": {
   "codemirror_mode": {
    "name": "ipython",
    "version": 3
   },
   "file_extension": ".py",
   "mimetype": "text/x-python",
   "name": "python",
   "nbconvert_exporter": "python",
   "pygments_lexer": "ipython3",
   "version": "3.7.3"
  }
 },
 "nbformat": 4,
 "nbformat_minor": 2
}
