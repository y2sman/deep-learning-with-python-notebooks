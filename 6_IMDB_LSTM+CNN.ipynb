{
 "cells": [
  {
   "cell_type": "markdown",
   "metadata": {},
   "source": [
    "### 참고자료\n",
    "\n",
    "https://tykimos.github.io/2017/08/17/Text_Input_Binary_Classification_Model_Recipe/\n",
    "\n",
    "https://tykimos.github.io/2017/03/25/Dataset_and_Fit_Talk/\n",
    "\n",
    "https://github.com/rickiepark/deep-learning-with-python-notebooks/blob/master/3.4-classifying-movie-reviews.ipynb"
   ]
  },
  {
   "cell_type": "code",
   "execution_count": 1,
   "metadata": {},
   "outputs": [
    {
     "name": "stderr",
     "output_type": "stream",
     "text": [
      "Using TensorFlow backend.\n"
     ]
    },
    {
     "data": {
      "text/plain": [
       "'2.2.4'"
      ]
     },
     "execution_count": 1,
     "metadata": {},
     "output_type": "execute_result"
    }
   ],
   "source": [
    "import keras\n",
    "keras.__version__"
   ]
  },
  {
   "cell_type": "markdown",
   "metadata": {},
   "source": [
    "### 데이터 전처리"
   ]
  },
  {
   "cell_type": "code",
   "execution_count": 2,
   "metadata": {},
   "outputs": [],
   "source": [
    "from keras.datasets import imdb\n",
    "from keras.preprocessing import sequence\n",
    "from keras.models import Sequential\n",
    "from keras.layers import Dense, Embedding, LSTM\n",
    "from keras.layers import Flatten, Dropout\n",
    "from keras.layers import Conv1D, MaxPooling1D\n",
    "\n",
    "max_features = 20000\n",
    "text_max_words = 200\n",
    "\n",
    "(x_train, y_train), (x_test, y_test) = imdb.load_data(num_words=max_features)\n",
    "\n",
    "x_val = x_train[20000:]\n",
    "y_val = y_train[20000:]\n",
    "x_train = x_train[:20000]\n",
    "y_train = y_train[:20000]\n",
    "\n",
    "x_train = sequence.pad_sequences(x_train, maxlen=text_max_words)\n",
    "x_val = sequence.pad_sequences(x_val, maxlen=text_max_words)\n",
    "x_test = sequence.pad_sequences(x_test, maxlen=text_max_words)"
   ]
  },
  {
   "cell_type": "markdown",
   "metadata": {},
   "source": [
    "전처리는 똑같이 진행한다."
   ]
  },
  {
   "cell_type": "markdown",
   "metadata": {},
   "source": [
    "### 모델 설계"
   ]
  },
  {
   "cell_type": "code",
   "execution_count": 3,
   "metadata": {},
   "outputs": [
    {
     "name": "stdout",
     "output_type": "stream",
     "text": [
      "WARNING:tensorflow:From c:\\users\\y2sman\\anaconda3\\envs\\keras\\lib\\site-packages\\tensorflow\\python\\framework\\op_def_library.py:263: colocate_with (from tensorflow.python.framework.ops) is deprecated and will be removed in a future version.\n",
      "Instructions for updating:\n",
      "Colocations handled automatically by placer.\n",
      "WARNING:tensorflow:From c:\\users\\y2sman\\anaconda3\\envs\\keras\\lib\\site-packages\\keras\\backend\\tensorflow_backend.py:3445: calling dropout (from tensorflow.python.ops.nn_ops) with keep_prob is deprecated and will be removed in a future version.\n",
      "Instructions for updating:\n",
      "Please use `rate` instead of `keep_prob`. Rate should be set to `rate = 1 - keep_prob`.\n",
      "_________________________________________________________________\n",
      "Layer (type)                 Output Shape              Param #   \n",
      "=================================================================\n",
      "embedding_1 (Embedding)      (None, 200, 128)          2560000   \n",
      "_________________________________________________________________\n",
      "dropout_1 (Dropout)          (None, 200, 128)          0         \n",
      "_________________________________________________________________\n",
      "conv1d_1 (Conv1D)            (None, 198, 256)          98560     \n",
      "_________________________________________________________________\n",
      "max_pooling1d_1 (MaxPooling1 (None, 49, 256)           0         \n",
      "_________________________________________________________________\n",
      "lstm_1 (LSTM)                (None, 128)               197120    \n",
      "_________________________________________________________________\n",
      "dense_1 (Dense)              (None, 1)                 129       \n",
      "=================================================================\n",
      "Total params: 2,855,809\n",
      "Trainable params: 2,855,809\n",
      "Non-trainable params: 0\n",
      "_________________________________________________________________\n"
     ]
    }
   ],
   "source": [
    "model = Sequential()\n",
    "model.add(Embedding(max_features, 128, input_length=text_max_words))\n",
    "model.add(Dropout(0.2))\n",
    "model.add(Conv1D(256,\n",
    "                 3,\n",
    "                 padding='valid',\n",
    "                 activation='relu',\n",
    "                 strides=1))\n",
    "model.add(MaxPooling1D(pool_size=4))\n",
    "model.add(LSTM(128))\n",
    "model.add(Dense(1, activation='sigmoid'))\n",
    "model.summary()"
   ]
  },
  {
   "cell_type": "markdown",
   "metadata": {},
   "source": [
    "CNN과 LSTM을 동시에 사용하였다. LSTM의 위치를 보면 max_pooling 뒤에 위치하는 것을 확인할 수 있다. CNN만 있었던 것과 큰 차이인데, CNN만 사용했을 때는 특징을 뽑아낸 데이터를 relu로 이용해 학습하였다. 하지만 여기서는 pool_size를 따로 줘서 max_pooling을 하면서 49개의 특징벡터를 뽑아내어 이를 LSTM을 이용해 학습하고 sigmoid를 이용해 평가한다."
   ]
  },
  {
   "cell_type": "markdown",
   "metadata": {},
   "source": [
    "### 학습"
   ]
  },
  {
   "cell_type": "code",
   "execution_count": 4,
   "metadata": {},
   "outputs": [
    {
     "name": "stdout",
     "output_type": "stream",
     "text": [
      "WARNING:tensorflow:From c:\\users\\y2sman\\anaconda3\\envs\\keras\\lib\\site-packages\\tensorflow\\python\\ops\\math_ops.py:3066: to_int32 (from tensorflow.python.ops.math_ops) is deprecated and will be removed in a future version.\n",
      "Instructions for updating:\n",
      "Use tf.cast instead.\n",
      "Train on 20000 samples, validate on 5000 samples\n",
      "Epoch 1/25\n",
      "20000/20000 [==============================] - 27s 1ms/step - loss: 0.4029 - acc: 0.8012 - val_loss: 0.3043 - val_acc: 0.8750\n",
      "Epoch 2/25\n",
      "20000/20000 [==============================] - 24s 1ms/step - loss: 0.1881 - acc: 0.9294 - val_loss: 0.3496 - val_acc: 0.8552\n",
      "Epoch 3/25\n",
      "20000/20000 [==============================] - 24s 1ms/step - loss: 0.0943 - acc: 0.9680 - val_loss: 0.4073 - val_acc: 0.8626\n",
      "Epoch 4/25\n",
      "20000/20000 [==============================] - 24s 1ms/step - loss: 0.0485 - acc: 0.9860 - val_loss: 0.5209 - val_acc: 0.8624\n",
      "Epoch 5/25\n",
      "20000/20000 [==============================] - 24s 1ms/step - loss: 0.0329 - acc: 0.9902 - val_loss: 0.5132 - val_acc: 0.8508\n",
      "Epoch 6/25\n",
      "20000/20000 [==============================] - 24s 1ms/step - loss: 0.0263 - acc: 0.9917 - val_loss: 0.6191 - val_acc: 0.8562\n",
      "Epoch 7/25\n",
      "20000/20000 [==============================] - 24s 1ms/step - loss: 0.0143 - acc: 0.9956 - val_loss: 0.6578 - val_acc: 0.8628\n",
      "Epoch 8/25\n",
      "20000/20000 [==============================] - 24s 1ms/step - loss: 0.0104 - acc: 0.9962 - val_loss: 0.8216 - val_acc: 0.8566\n",
      "Epoch 9/25\n",
      "20000/20000 [==============================] - 24s 1ms/step - loss: 0.0168 - acc: 0.9944 - val_loss: 0.7509 - val_acc: 0.8646\n",
      "Epoch 10/25\n",
      "20000/20000 [==============================] - 24s 1ms/step - loss: 0.0098 - acc: 0.9961 - val_loss: 0.8797 - val_acc: 0.8556\n",
      "Epoch 11/25\n",
      "20000/20000 [==============================] - 24s 1ms/step - loss: 0.0078 - acc: 0.9968 - val_loss: 0.8155 - val_acc: 0.8626\n",
      "Epoch 12/25\n",
      "20000/20000 [==============================] - 24s 1ms/step - loss: 0.0115 - acc: 0.9961 - val_loss: 0.7108 - val_acc: 0.8596\n",
      "Epoch 13/25\n",
      "20000/20000 [==============================] - 24s 1ms/step - loss: 0.0128 - acc: 0.9959 - val_loss: 0.7268 - val_acc: 0.8620\n",
      "Epoch 14/25\n",
      "20000/20000 [==============================] - 24s 1ms/step - loss: 0.0067 - acc: 0.9978 - val_loss: 0.8569 - val_acc: 0.8612\n",
      "Epoch 15/25\n",
      "20000/20000 [==============================] - 24s 1ms/step - loss: 0.0043 - acc: 0.9984 - val_loss: 1.0322 - val_acc: 0.8556\n",
      "Epoch 16/25\n",
      "20000/20000 [==============================] - 24s 1ms/step - loss: 0.0061 - acc: 0.9981 - val_loss: 0.9034 - val_acc: 0.8598\n",
      "Epoch 17/25\n",
      "20000/20000 [==============================] - 24s 1ms/step - loss: 0.0058 - acc: 0.9981 - val_loss: 0.8263 - val_acc: 0.8626\n",
      "Epoch 18/25\n",
      "20000/20000 [==============================] - 24s 1ms/step - loss: 0.0043 - acc: 0.9983 - val_loss: 0.9078 - val_acc: 0.8610\n",
      "Epoch 19/25\n",
      "20000/20000 [==============================] - 24s 1ms/step - loss: 0.0075 - acc: 0.9973 - val_loss: 0.7717 - val_acc: 0.8596\n",
      "Epoch 20/25\n",
      "20000/20000 [==============================] - 24s 1ms/step - loss: 0.0117 - acc: 0.9960 - val_loss: 0.8503 - val_acc: 0.8536\n",
      "Epoch 21/25\n",
      "20000/20000 [==============================] - 24s 1ms/step - loss: 0.0038 - acc: 0.9988 - val_loss: 0.9451 - val_acc: 0.8612\n",
      "Epoch 22/25\n",
      "20000/20000 [==============================] - 24s 1ms/step - loss: 0.0010 - acc: 0.9996 - val_loss: 0.9676 - val_acc: 0.8594\n",
      "Epoch 23/25\n",
      "20000/20000 [==============================] - 24s 1ms/step - loss: 4.4957e-04 - acc: 1.0000 - val_loss: 1.1311 - val_acc: 0.8552\n",
      "Epoch 24/25\n",
      "20000/20000 [==============================] - 24s 1ms/step - loss: 0.0016 - acc: 0.9996 - val_loss: 1.1953 - val_acc: 0.8310\n",
      "Epoch 25/25\n",
      "20000/20000 [==============================] - 24s 1ms/step - loss: 0.0074 - acc: 0.9976 - val_loss: 0.8822 - val_acc: 0.8582\n"
     ]
    }
   ],
   "source": [
    "model.compile(loss='binary_crossentropy', optimizer='adam', metrics=['accuracy'])\n",
    "history = model.fit(x_train, y_train, epochs=25, batch_size=64, validation_data=(x_val, y_val))"
   ]
  },
  {
   "cell_type": "markdown",
   "metadata": {},
   "source": [
    "학습 자체는 다른것과 동일하게 진행한다. epochs만 조건에 맞게 25로 설정한다."
   ]
  },
  {
   "cell_type": "markdown",
   "metadata": {},
   "source": [
    "### 시각화"
   ]
  },
  {
   "cell_type": "code",
   "execution_count": 5,
   "metadata": {},
   "outputs": [
    {
     "data": {
      "text/plain": [
       "<Figure size 640x480 with 1 Axes>"
      ]
     },
     "metadata": {},
     "output_type": "display_data"
    }
   ],
   "source": [
    "import matplotlib.pyplot as plt\n",
    "\n",
    "history_dict = history.history\n",
    "acc = history_dict['acc']\n",
    "val_acc = history_dict['val_acc']\n",
    "\n",
    "epochs = range(1, len(acc) + 1)\n",
    "\n",
    "plt.plot(epochs, acc, 'bo', label='Training acc')\n",
    "plt.plot(epochs, val_acc, 'b', label='Validation acc')\n",
    "plt.title('Training and validation accuracy')\n",
    "plt.xlabel('Epochs')\n",
    "plt.ylabel('Accuracy')\n",
    "plt.legend()\n",
    "\n",
    "plt.show()"
   ]
  },
  {
   "cell_type": "code",
   "execution_count": 6,
   "metadata": {},
   "outputs": [
    {
     "name": "stdout",
     "output_type": "stream",
     "text": [
      "25000/25000 [==============================] - 9s 378us/step\n",
      "[1.0076602544593811, 0.8378000000381469]\n"
     ]
    }
   ],
   "source": [
    "loss_and_metrics = model.evaluate(x_test, y_test, batch_size=64)\n",
    "print(loss_and_metrics)"
   ]
  },
  {
   "cell_type": "code",
   "execution_count": 7,
   "metadata": {},
   "outputs": [
    {
     "data": {
      "text/plain": [
       "array([[5.47438860e-04],\n",
       "       [4.91142273e-05],\n",
       "       [1.22177005e-01],\n",
       "       ...,\n",
       "       [1.00433826e-05],\n",
       "       [9.99984145e-01],\n",
       "       [9.99817371e-01]], dtype=float32)"
      ]
     },
     "execution_count": 7,
     "metadata": {},
     "output_type": "execute_result"
    }
   ],
   "source": [
    "model.predict(x_val)"
   ]
  }
 ],
 "metadata": {
  "kernelspec": {
   "display_name": "Python 3",
   "language": "python",
   "name": "python3"
  },
  "language_info": {
   "codemirror_mode": {
    "name": "ipython",
    "version": 3
   },
   "file_extension": ".py",
   "mimetype": "text/x-python",
   "name": "python",
   "nbconvert_exporter": "python",
   "pygments_lexer": "ipython3",
   "version": "3.7.3"
  }
 },
 "nbformat": 4,
 "nbformat_minor": 2
}
