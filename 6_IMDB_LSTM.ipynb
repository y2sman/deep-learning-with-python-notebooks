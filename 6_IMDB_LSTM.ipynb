{
 "cells": [
  {
   "cell_type": "markdown",
   "metadata": {},
   "source": [
    "### 참고자료\n",
    "\n",
    "https://tykimos.github.io/2017/08/17/Text_Input_Binary_Classification_Model_Recipe/\n",
    "\n",
    "https://tykimos.github.io/2017/03/25/Dataset_and_Fit_Talk/\n",
    "\n",
    "https://github.com/rickiepark/deep-learning-with-python-notebooks/blob/master/3.4-classifying-movie-reviews.ipynb\n",
    "\n",
    "https://talkingaboutme.tistory.com/entry/DL-%ED%95%B4%EB%B3%B4%EB%A9%B4%EC%84%9C-%EB%B0%B0%EC%9A%B0%EB%8A%94-%EB%94%A5%EB%9F%AC%EB%8B%9D-ANN-%EA%B5%AC%ED%98%84-3\n",
    "\n",
    "https://woosa7.github.io/DL00/"
   ]
  },
  {
   "cell_type": "code",
   "execution_count": 1,
   "metadata": {},
   "outputs": [
    {
     "name": "stderr",
     "output_type": "stream",
     "text": [
      "Using TensorFlow backend.\n"
     ]
    },
    {
     "data": {
      "text/plain": [
       "'2.2.4'"
      ]
     },
     "execution_count": 1,
     "metadata": {},
     "output_type": "execute_result"
    }
   ],
   "source": [
    "import keras\n",
    "keras.__version__"
   ]
  },
  {
   "cell_type": "code",
   "execution_count": 2,
   "metadata": {},
   "outputs": [],
   "source": [
    "from keras.datasets import imdb\n",
    "from keras.preprocessing import sequence\n",
    "from keras.models import Sequential\n",
    "from keras.layers import Dense, Embedding, LSTM\n",
    "from keras.layers import Flatten\n",
    "\n",
    "max_features = 20000\n",
    "text_max_words = 200\n",
    "\n",
    "(x_train, y_train), (x_test, y_test) = imdb.load_data(num_words=max_features)"
   ]
  },
  {
   "cell_type": "markdown",
   "metadata": {},
   "source": [
    "### 데이터셋 분리"
   ]
  },
  {
   "cell_type": "code",
   "execution_count": 3,
   "metadata": {},
   "outputs": [],
   "source": [
    "x_val = x_train[20000:]\n",
    "y_val = y_train[20000:]\n",
    "x_train = x_train[:20000]\n",
    "y_train = y_train[:20000]"
   ]
  },
  {
   "cell_type": "markdown",
   "metadata": {},
   "source": [
    "해당 데이터셋에는 학습 데이터 25000개와 평가 데이터 25000개의 데이터 샘플이 존재한다. 이를 학습을 위해 20000개의 학습 데이터와 5000개의 평가 데이터로 분류한다."
   ]
  },
  {
   "cell_type": "markdown",
   "metadata": {},
   "source": [
    "### 데이터셋 전처리"
   ]
  },
  {
   "cell_type": "code",
   "execution_count": 4,
   "metadata": {},
   "outputs": [],
   "source": [
    "x_train = sequence.pad_sequences(x_train, maxlen=text_max_words)\n",
    "x_val = sequence.pad_sequences(x_val, maxlen=text_max_words)\n",
    "x_test = sequence.pad_sequences(x_test, maxlen=text_max_words)"
   ]
  },
  {
   "cell_type": "markdown",
   "metadata": {},
   "source": [
    "IMDB데이터 셋의 문장 길이가 각각 다르므로, 학습을 위해서 이를 모두 동일한 길이로 설정한다."
   ]
  },
  {
   "cell_type": "markdown",
   "metadata": {},
   "source": [
    "### 모델 구성"
   ]
  },
  {
   "cell_type": "code",
   "execution_count": 5,
   "metadata": {
    "scrolled": true
   },
   "outputs": [
    {
     "name": "stdout",
     "output_type": "stream",
     "text": [
      "WARNING:tensorflow:From c:\\users\\y2sman\\anaconda3\\envs\\keras\\lib\\site-packages\\tensorflow\\python\\framework\\op_def_library.py:263: colocate_with (from tensorflow.python.framework.ops) is deprecated and will be removed in a future version.\n",
      "Instructions for updating:\n",
      "Colocations handled automatically by placer.\n",
      "_________________________________________________________________\n",
      "Layer (type)                 Output Shape              Param #   \n",
      "=================================================================\n",
      "embedding_1 (Embedding)      (None, None, 128)         2560000   \n",
      "_________________________________________________________________\n",
      "lstm_1 (LSTM)                (None, 128)               131584    \n",
      "_________________________________________________________________\n",
      "dense_1 (Dense)              (None, 1)                 129       \n",
      "=================================================================\n",
      "Total params: 2,691,713\n",
      "Trainable params: 2,691,713\n",
      "Non-trainable params: 0\n",
      "_________________________________________________________________\n"
     ]
    }
   ],
   "source": [
    "model = Sequential()\n",
    "model.add(Embedding(max_features, 128))\n",
    "model.add(LSTM(128))\n",
    "model.add(Dense(1, activation='sigmoid'))\n",
    "model.summary()"
   ]
  },
  {
   "cell_type": "markdown",
   "metadata": {},
   "source": [
    "모델을 구성하고, 이를 출력했다. embedding -> LSTM -> DENSE 순으로 레이어가 구성되어 있으며, 임베딩한 데이터를 지난 수업에서 배운 RNN의 방식중 하나인 LSTM으로 학습하고, 이를 sigmoid(0과 1로 값을 결정하여 알려주는 방식)으로 나타낸다."
   ]
  },
  {
   "cell_type": "code",
   "execution_count": 6,
   "metadata": {},
   "outputs": [],
   "source": [
    "model.compile(loss='binary_crossentropy', optimizer='adam', metrics=['accuracy'])"
   ]
  },
  {
   "cell_type": "markdown",
   "metadata": {},
   "source": [
    "제대로된 학습을 위해 loss_function과 optimizer를 설정한다. \n",
    "\n",
    "loss_function의 binary_crossentropy는 log형식의 cost function이라는데, 일반적으로 바이너리 값일 경우 사용하는 것 같다. 결과값이 3개 이상을 원할 경우 categorical_crossentropy를 사용한다. 변수 예측을 위해 사용한다.\n",
    "\n",
    "optimizer로 사용하는 adam은 0으로 편향되는 결과값을 막기 위해 사용한다.\n",
    "\n",
    "metrics에서 accuracy는 학습 목표를 말한다. 정확도를 기준으로 학습을 진행한다."
   ]
  },
  {
   "cell_type": "markdown",
   "metadata": {},
   "source": [
    "### 모델 학습"
   ]
  },
  {
   "cell_type": "code",
   "execution_count": 7,
   "metadata": {},
   "outputs": [
    {
     "name": "stdout",
     "output_type": "stream",
     "text": [
      "WARNING:tensorflow:From c:\\users\\y2sman\\anaconda3\\envs\\keras\\lib\\site-packages\\tensorflow\\python\\ops\\math_ops.py:3066: to_int32 (from tensorflow.python.ops.math_ops) is deprecated and will be removed in a future version.\n",
      "Instructions for updating:\n",
      "Use tf.cast instead.\n",
      "Train on 20000 samples, validate on 5000 samples\n",
      "Epoch 1/25\n",
      "20000/20000 [==============================] - 65s 3ms/step - loss: 0.4151 - acc: 0.8056 - val_loss: 0.3863 - val_acc: 0.8320\n",
      "Epoch 2/25\n",
      "20000/20000 [==============================] - 63s 3ms/step - loss: 0.2291 - acc: 0.9140 - val_loss: 0.3242 - val_acc: 0.8796\n",
      "Epoch 3/25\n",
      "20000/20000 [==============================] - 63s 3ms/step - loss: 0.1486 - acc: 0.9460 - val_loss: 0.3836 - val_acc: 0.8516\n",
      "Epoch 4/25\n",
      "20000/20000 [==============================] - 63s 3ms/step - loss: 0.1038 - acc: 0.9641 - val_loss: 0.4605 - val_acc: 0.8464\n",
      "Epoch 5/25\n",
      "20000/20000 [==============================] - 63s 3ms/step - loss: 0.0748 - acc: 0.9742 - val_loss: 0.5281 - val_acc: 0.8590\n",
      "Epoch 6/25\n",
      "20000/20000 [==============================] - 63s 3ms/step - loss: 0.0687 - acc: 0.9768 - val_loss: 0.5257 - val_acc: 0.8566\n",
      "Epoch 7/25\n",
      "20000/20000 [==============================] - 63s 3ms/step - loss: 0.0491 - acc: 0.9834 - val_loss: 0.5823 - val_acc: 0.8428\n",
      "Epoch 8/25\n",
      "20000/20000 [==============================] - 63s 3ms/step - loss: 0.0278 - acc: 0.9918 - val_loss: 0.6038 - val_acc: 0.8350\n",
      "Epoch 9/25\n",
      "20000/20000 [==============================] - 63s 3ms/step - loss: 0.0189 - acc: 0.9949 - val_loss: 0.6652 - val_acc: 0.8518\n",
      "Epoch 10/25\n",
      "20000/20000 [==============================] - 63s 3ms/step - loss: 0.0682 - acc: 0.9755 - val_loss: 0.7053 - val_acc: 0.8442\n",
      "Epoch 11/25\n",
      "20000/20000 [==============================] - 63s 3ms/step - loss: 0.0235 - acc: 0.9929 - val_loss: 0.6476 - val_acc: 0.8426\n",
      "Epoch 12/25\n",
      "20000/20000 [==============================] - 63s 3ms/step - loss: 0.0241 - acc: 0.9924 - val_loss: 0.7370 - val_acc: 0.8078\n",
      "Epoch 13/25\n",
      "20000/20000 [==============================] - 63s 3ms/step - loss: 0.0168 - acc: 0.9947 - val_loss: 0.7993 - val_acc: 0.8166\n",
      "Epoch 14/25\n",
      "20000/20000 [==============================] - 63s 3ms/step - loss: 0.0094 - acc: 0.9976 - val_loss: 0.8107 - val_acc: 0.8516\n",
      "Epoch 15/25\n",
      "20000/20000 [==============================] - 63s 3ms/step - loss: 0.0277 - acc: 0.9911 - val_loss: 0.6816 - val_acc: 0.8382\n",
      "Epoch 16/25\n",
      "20000/20000 [==============================] - 63s 3ms/step - loss: 0.0116 - acc: 0.9966 - val_loss: 0.8503 - val_acc: 0.8416\n",
      "Epoch 17/25\n",
      "20000/20000 [==============================] - 63s 3ms/step - loss: 0.0221 - acc: 0.9931 - val_loss: 0.8124 - val_acc: 0.8378\n",
      "Epoch 18/25\n",
      "20000/20000 [==============================] - 63s 3ms/step - loss: 0.0129 - acc: 0.9960 - val_loss: 0.8067 - val_acc: 0.8378\n",
      "Epoch 19/25\n",
      "20000/20000 [==============================] - 63s 3ms/step - loss: 0.0044 - acc: 0.9990 - val_loss: 0.8915 - val_acc: 0.8372\n",
      "Epoch 20/25\n",
      "20000/20000 [==============================] - 63s 3ms/step - loss: 0.0030 - acc: 0.9991 - val_loss: 0.9562 - val_acc: 0.8470\n",
      "Epoch 21/25\n",
      "20000/20000 [==============================] - 63s 3ms/step - loss: 0.0127 - acc: 0.9965 - val_loss: 0.8578 - val_acc: 0.8446\n",
      "Epoch 22/25\n",
      "20000/20000 [==============================] - 63s 3ms/step - loss: 0.0087 - acc: 0.9974 - val_loss: 0.8248 - val_acc: 0.8432\n",
      "Epoch 23/25\n",
      "20000/20000 [==============================] - 63s 3ms/step - loss: 0.0230 - acc: 0.9928 - val_loss: 0.8518 - val_acc: 0.8374\n",
      "Epoch 24/25\n",
      "20000/20000 [==============================] - 63s 3ms/step - loss: 0.0111 - acc: 0.9967 - val_loss: 0.9466 - val_acc: 0.8392\n",
      "Epoch 25/25\n",
      "20000/20000 [==============================] - 63s 3ms/step - loss: 0.0048 - acc: 0.9985 - val_loss: 0.9616 - val_acc: 0.8538\n"
     ]
    }
   ],
   "source": [
    "history = model.fit(x_train, y_train, epochs=25, batch_size=64, validation_data=(x_val, y_val))"
   ]
  },
  {
   "cell_type": "markdown",
   "metadata": {},
   "source": [
    "학습을 진행한다. 요구조건으로 epochs를 최소 25회 이상 진행하라고 하였으므로, 이를 25로 변경하여 학습을 진행하였다."
   ]
  },
  {
   "cell_type": "markdown",
   "metadata": {},
   "source": [
    "### 시각화"
   ]
  },
  {
   "cell_type": "code",
   "execution_count": 11,
   "metadata": {},
   "outputs": [
    {
     "data": {
      "image/png": "[encoded data removed]",
      "text/plain": [
       "<Figure size 432x288 with 1 Axes>"
      ]
     },
     "metadata": {
      "needs_background": "light"
     },
     "output_type": "display_data"
    }
   ],
   "source": [
    "import matplotlib.pyplot as plt\n",
    "\n",
    "history_dict = history.history\n",
    "acc = history_dict['acc']\n",
    "val_acc = history_dict['val_acc']\n",
    "\n",
    "epochs = range(1, len(acc) + 1)\n",
    "\n",
    "plt.plot(epochs, acc, 'bo', label='Training acc')\n",
    "plt.plot(epochs, val_acc, 'b', label='Validation acc')\n",
    "plt.title('Training and validation accuracy')\n",
    "plt.xlabel('Epochs')\n",
    "plt.ylabel('Accuracy')\n",
    "plt.legend()\n",
    "\n",
    "plt.show()"
   ]
  },
  {
   "cell_type": "markdown",
   "metadata": {},
   "source": [
    "### 평가"
   ]
  },
  {
   "cell_type": "code",
   "execution_count": 9,
   "metadata": {},
   "outputs": [
    {
     "name": "stdout",
     "output_type": "stream",
     "text": [
      "25000/25000 [==============================] - 15s 611us/step\n",
      "[1.003388913269043, 0.844559999961853]\n"
     ]
    }
   ],
   "source": [
    "results = model.evaluate(x_test, y_test, batch_size=64)\n",
    "print(results)"
   ]
  },
  {
   "cell_type": "code",
   "execution_count": 10,
   "metadata": {
    "scrolled": true
   },
   "outputs": [
    {
     "data": {
      "text/plain": [
       "array([[9.9947840e-01],\n",
       "       [2.0980835e-05],\n",
       "       [2.9952675e-02],\n",
       "       ...,\n",
       "       [2.4110079e-05],\n",
       "       [9.9999726e-01],\n",
       "       [9.9256134e-01]], dtype=float32)"
      ]
     },
     "execution_count": 10,
     "metadata": {},
     "output_type": "execute_result"
    }
   ],
   "source": [
    "model.predict(x_val)"
   ]
  },
  {
   "cell_type": "markdown",
   "metadata": {},
   "source": [
    "결과 값을 확인하고, 실제 x_val이라는 우리가 평가에 사용한 데이터 셋의 예측 결과가 어떻게 나왔는지에 대해 확인하였다."
   ]
  }
 ],
 "metadata": {
  "kernelspec": {
   "display_name": "Python 3",
   "language": "python",
   "name": "python3"
  },
  "language_info": {
   "codemirror_mode": {
    "name": "ipython",
    "version": 3
   },
   "file_extension": ".py",
   "mimetype": "text/x-python",
   "name": "python",
   "nbconvert_exporter": "python",
   "pygments_lexer": "ipython3",
   "version": "3.7.3"
  }
 },
 "nbformat": 4,
 "nbformat_minor": 2
}
